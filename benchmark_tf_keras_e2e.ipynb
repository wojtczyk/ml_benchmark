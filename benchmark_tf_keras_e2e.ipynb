{
 "cells": [
  {
   "cell_type": "code",
   "execution_count": null,
   "id": "b2eb5446-5a57-4b44-951d-a8a6c0fa14dd",
   "metadata": {},
   "outputs": [],
   "source": [
    "# Small Benchmark on mnist dataset based on https://www.tensorflow.org/datasets/keras_example\n",
    "import tensorflow as tf\n",
    "import tensorflow_datasets as tfds"
   ]
  },
  {
   "cell_type": "code",
   "execution_count": null,
   "id": "f0408d0a-fd40-4653-abb6-afa19afee9da",
   "metadata": {},
   "outputs": [],
   "source": [
    "# Show info\n",
    "print(\"TensorFlow version:\", tf.__version__)\n",
    "print(\"Num GPUs Available: \", len(tf.config.list_physical_devices('GPU')))\n",
    "print(\"List GPU devices: \", tf.config.experimental.list_physical_devices('GPU'))\n",
    "\n",
    "non_cuda_gpu = tf.test.is_gpu_available(\n",
    "    cuda_only=False, min_cuda_compute_capability=None\n",
    ")\n",
    "print(\"Is Non CUDA GPU available: \", non_cuda_gpu)\n",
    "\n",
    "cuda_gpu = tf.test.is_gpu_available(\n",
    "    cuda_only=True\n",
    ")\n",
    "print(\"Is CUDA GPU available: \", cuda_gpu)\n"
   ]
  },
  {
   "cell_type": "code",
   "execution_count": null,
   "id": "5de83f94-4b30-4dc1-9078-161cc30c5ed8",
   "metadata": {},
   "outputs": [],
   "source": [
    "# Load dataset\n",
    "(ds_train, ds_test), ds_info = tfds.load(\n",
    "    'mnist',\n",
    "    split=['train', 'test'],\n",
    "    shuffle_files=True,\n",
    "    as_supervised=True,\n",
    "    with_info=True,\n",
    ")"
   ]
  },
  {
   "cell_type": "code",
   "execution_count": null,
   "id": "b08ac75d-d17c-41c3-a2f6-6fb08e2b81cd",
   "metadata": {},
   "outputs": [],
   "source": [
    "# Training pipeline\n",
    "def normalize_img(image, label):\n",
    "  \"\"\"Normalizes images: `uint8` -> `float32`.\"\"\"\n",
    "  return tf.cast(image, tf.float32) / 255., label\n",
    "\n",
    "ds_train = ds_train.map(\n",
    "    normalize_img, num_parallel_calls=tf.data.AUTOTUNE)\n",
    "ds_train = ds_train.cache()\n",
    "ds_train = ds_train.shuffle(ds_info.splits['train'].num_examples)\n",
    "ds_train = ds_train.batch(128)\n",
    "ds_train = ds_train.prefetch(tf.data.AUTOTUNE)"
   ]
  },
  {
   "cell_type": "code",
   "execution_count": null,
   "id": "749fad9a-07f0-4a6b-81f3-62ba1dd1d2cb",
   "metadata": {},
   "outputs": [],
   "source": [
    "# Evaluation pipeline\n",
    "ds_test = ds_test.map(\n",
    "    normalize_img, num_parallel_calls=tf.data.AUTOTUNE)\n",
    "ds_test = ds_test.batch(128)\n",
    "ds_test = ds_test.cache()\n",
    "ds_test = ds_test.prefetch(tf.data.AUTOTUNE)"
   ]
  },
  {
   "cell_type": "code",
   "execution_count": null,
   "id": "291cfbe8-2338-4951-b08c-dfe5b58d7493",
   "metadata": {},
   "outputs": [],
   "source": [
    "# Create model\n",
    "model = tf.keras.models.Sequential([\n",
    "  tf.keras.layers.Flatten(input_shape=(28, 28)),\n",
    "  tf.keras.layers.Dense(128, activation='relu'),\n",
    "  tf.keras.layers.Dense(10)\n",
    "])\n",
    "model.compile(\n",
    "    optimizer=tf.keras.optimizers.Adam(0.001),\n",
    "    loss=tf.keras.losses.SparseCategoricalCrossentropy(from_logits=True),\n",
    "    metrics=[tf.keras.metrics.SparseCategoricalAccuracy()],\n",
    ")"
   ]
  },
  {
   "cell_type": "code",
   "execution_count": null,
   "id": "c5a50dfc-06b0-4bc5-be06-aa3536df909d",
   "metadata": {},
   "outputs": [],
   "source": [
    "%%time\n",
    "\n",
    "# Train model\n",
    "model.fit(\n",
    "    ds_train,\n",
    "    epochs=12,\n",
    "    validation_data=ds_test,\n",
    ")"
   ]
  },
  {
   "cell_type": "code",
   "execution_count": null,
   "id": "d2b81fa4-2d0b-4230-b465-fc744629b8c8",
   "metadata": {},
   "outputs": [],
   "source": [
    "# 17.10.2022 MacBook Air M1\n",
    "# miniconda python 3.10.6 w/ tensorflow-macos & tensorflow-metal - reports gpu, and gpu busy while training\n",
    "# CPU times: user 19.7 s, sys: 13.4 s, total: 33.1 s\n",
    "# Wall time: 26.2 s\n",
    "\n",
    "# 17.10.2022 Intel Core i9-11900KB + Arc A750 GPU\n",
    "# miniconda python 3.9 w/ intel channel tensorflow - 100% CPU, GPU not used :/ yet faster than M1\n",
    "# CPU times: total: 1min 35s\n",
    "# Wall time: 9.31 s"
   ]
  }
 ],
 "metadata": {
  "kernelspec": {
   "display_name": "Python 3 (ipykernel)",
   "language": "python",
   "name": "python3"
  },
  "language_info": {
   "codemirror_mode": {
    "name": "ipython",
    "version": 3
   },
   "file_extension": ".py",
   "mimetype": "text/x-python",
   "name": "python",
   "nbconvert_exporter": "python",
   "pygments_lexer": "ipython3",
   "version": "3.9.12"
  }
 },
 "nbformat": 4,
 "nbformat_minor": 5
}
